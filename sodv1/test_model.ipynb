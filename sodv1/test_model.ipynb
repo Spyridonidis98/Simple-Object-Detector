{
 "cells": [
  {
   "cell_type": "code",
   "execution_count": 1,
   "metadata": {},
   "outputs": [
    {
     "name": "stdout",
     "output_type": "stream",
     "text": [
      "INFO:tensorflow:Mixed precision compatibility check (mixed_float16): OK\n",
      "Your GPU will likely run quickly with dtype policy mixed_float16 as it has compute capability of at least 7.0. Your GPU: NVIDIA GeForce RTX 3090, compute capability 8.6\n"
     ]
    }
   ],
   "source": [
    "from datasets import VOCDataset, ImageTransform\n",
    "import cv2\n",
    "import tensorflow as tf\n",
    "import numpy as np\n",
    "\n",
    "images_path = \"../../../../datasets/voc2012/images\"\n",
    "labels_path = \"../../../../datasets/voc2012/labels\"\n",
    "\n",
    "t1 = ImageTransform.image_resize((448,448))\n",
    "transform = ImageTransform([t1])\n",
    "dataset = VOCDataset(images_path, labels_path, 7, 20, transform=transform)\n",
    "\n",
    "model = tf.keras.models.load_model('model', compile=False)"
   ]
  },
  {
   "cell_type": "code",
   "execution_count": null,
   "metadata": {},
   "outputs": [],
   "source": [
    "from utils import plot_image_with_bboxes as plot\n",
    "\n",
    "for i in range(20):\n",
    "    image, y_true = dataset[i]\n",
    "    y_pred = model(np.array([image])).numpy()[0]\n",
    "    plot(image, y_true)\n",
    "    plot(image, y_pred, 0.5)\n"
   ]
  },
  {
   "cell_type": "code",
   "execution_count": 8,
   "metadata": {},
   "outputs": [
    {
     "name": "stdout",
     "output_type": "stream",
     "text": [
      "////\n",
      "None\n",
      "None\n",
      "////\n",
      "0.9999500024998749\n",
      "0.9999500024998749\n",
      "////\n",
      "None\n",
      "None\n",
      "////\n",
      "None\n",
      "None\n",
      "////\n",
      "None\n",
      "None\n",
      "////\n",
      "0.9999000099990001\n",
      "0.9999000099990001\n",
      "////\n",
      "0.8999910000899991\n",
      "0.8999910000899991\n",
      "////\n",
      "0.9999666677777407\n",
      "0.9999666677777407\n",
      "////\n",
      "0.999985714489793\n",
      "0.999985714489793\n",
      "////\n",
      "0.9999000099990001\n",
      "0.9999000099990001\n",
      "////\n",
      "0.9999000099990001\n",
      "0.9999000099990001\n",
      "////\n",
      "0.9999500024998749\n",
      "0.9999500024998749\n",
      "////\n",
      "0.9999666677777407\n",
      "0.9999666677777407\n",
      "////\n",
      "None\n",
      "None\n",
      "////\n",
      "0.6249921875976551\n",
      "0.6249921875976551\n",
      "////\n",
      "0.9999000099990001\n",
      "0.9999000099990001\n",
      "////\n",
      "None\n",
      "None\n",
      "////\n",
      "0.9999000099990001\n",
      "0.9999000099990001\n",
      "////\n",
      "0.9999000099990001\n",
      "0.9999000099990001\n",
      "////\n",
      "None\n",
      "None\n"
     ]
    }
   ],
   "source": [
    "from utils import mAP\n",
    "\n",
    "predictions = []\n",
    "ground_truths = []\n",
    "for i in range(20):\n",
    "    image, y_true = dataset[i]\n",
    "    y_pred = model(np.array([image])).numpy()[0]\n",
    "    predictions.append(y_pred)\n",
    "    ground_truths.append(y_true)\n",
    "\n",
    "p, r, gt, d = mAP(ground_truths, predictions, 0.5, 0.5)\n",
    "for i, _ in enumerate(p):\n",
    "    print(\"////\")\n",
    "    print(p[i])\n",
    "    print(r[i])\n"
   ]
  }
 ],
 "metadata": {
  "kernelspec": {
   "display_name": "condapy37",
   "language": "python",
   "name": "python3"
  },
  "language_info": {
   "codemirror_mode": {
    "name": "ipython",
    "version": 3
   },
   "file_extension": ".py",
   "mimetype": "text/x-python",
   "name": "python",
   "nbconvert_exporter": "python",
   "pygments_lexer": "ipython3",
   "version": "3.7.13"
  },
  "orig_nbformat": 4,
  "vscode": {
   "interpreter": {
    "hash": "f05da36646b768f55e7e05d8ecec191a87aa6c24e83984d17684f73c71aa1362"
   }
  }
 },
 "nbformat": 4,
 "nbformat_minor": 2
}
