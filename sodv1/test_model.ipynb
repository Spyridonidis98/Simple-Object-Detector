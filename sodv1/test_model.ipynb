{
 "cells": [
  {
   "cell_type": "code",
   "execution_count": null,
   "metadata": {},
   "outputs": [],
   "source": [
    "from datasets import VOCDataset, ImageTransform\n",
    "import cv2\n",
    "import tensorflow as tf\n",
    "\n",
    "images_path = \"../../../datasets/voc2012/images\"\n",
    "labels_path = \"../../../datasets/voc2012/labels\"\n",
    "\n",
    "t1 = ImageTransform.image_resize((448,448))\n",
    "transform = ImageTransform([t1])\n",
    "dataset = VOCDataset(images_path, labels_path, 7, 20, transform=transform)\n",
    "\n",
    "model = tf.keras.models.load_model('./SODv1', compile=False)"
   ]
  },
  {
   "cell_type": "code",
   "execution_count": null,
   "metadata": {},
   "outputs": [],
   "source": [
    "from utils import plot_image_with_bboxes as plot\n",
    "import numpy as np\n",
    "for i in range(10):\n",
    "    image, y_true = dataset[i]\n",
    "    y_pred = model(np.array([image])).numpy()[0]\n",
    "    plot(image, y_true)\n",
    "    plot(image, y_pred)\n"
   ]
  }
 ],
 "metadata": {
  "kernelspec": {
   "display_name": "Python 3.7.13 ('condapy37')",
   "language": "python",
   "name": "python3"
  },
  "language_info": {
   "codemirror_mode": {
    "name": "ipython",
    "version": 3
   },
   "file_extension": ".py",
   "mimetype": "text/x-python",
   "name": "python",
   "nbconvert_exporter": "python",
   "pygments_lexer": "ipython3",
   "version": "3.7.13"
  },
  "orig_nbformat": 4,
  "vscode": {
   "interpreter": {
    "hash": "f05da36646b768f55e7e05d8ecec191a87aa6c24e83984d17684f73c71aa1362"
   }
  }
 },
 "nbformat": 4,
 "nbformat_minor": 2
}
